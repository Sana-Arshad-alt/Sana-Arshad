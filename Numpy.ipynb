{
 "cells": [
  {
   "cell_type": "code",
   "id": "initial_id",
   "metadata": {
    "collapsed": true,
    "ExecuteTime": {
     "end_time": "2025-06-29T18:40:42.947971Z",
     "start_time": "2025-06-29T18:40:42.404789Z"
    }
   },
   "source": [
    "import numpy as np\n",
    "arr = np.array([1, 2, 3])\n",
    "print(arr)"
   ],
   "outputs": [
    {
     "name": "stdout",
     "output_type": "stream",
     "text": [
      "[1 2 3]\n"
     ]
    }
   ],
   "execution_count": 1
  },
  {
   "metadata": {
    "ExecuteTime": {
     "end_time": "2025-06-29T18:40:49.086367Z",
     "start_time": "2025-06-29T18:40:49.070043Z"
    }
   },
   "cell_type": "code",
   "source": [
    "import numpy as ab\n",
    "list = [10,20,30,40]\n",
    "arr = ab.array(list,dtype = 'U32')\n",
    "print(arr)"
   ],
   "id": "961621db254ff142",
   "outputs": [
    {
     "name": "stdout",
     "output_type": "stream",
     "text": [
      "['10' '20' '30' '40']\n"
     ]
    }
   ],
   "execution_count": 2
  },
  {
   "metadata": {
    "ExecuteTime": {
     "end_time": "2025-06-29T18:41:19.224524Z",
     "start_time": "2025-06-29T18:41:19.207399Z"
    }
   },
   "cell_type": "code",
   "source": [
    "import numpy as ab\n",
    "list = [10,20,30,40]\n",
    "arr = ab.array(list)\n",
    "type(arr)"
   ],
   "id": "a664c6cfee579c7",
   "outputs": [
    {
     "data": {
      "text/plain": [
       "numpy.ndarray"
      ]
     },
     "execution_count": 4,
     "metadata": {},
     "output_type": "execute_result"
    }
   ],
   "execution_count": 4
  },
  {
   "metadata": {
    "ExecuteTime": {
     "end_time": "2025-06-29T18:41:46.022258Z",
     "start_time": "2025-06-29T18:41:45.986040Z"
    }
   },
   "cell_type": "code",
   "source": [
    "import numpy as ab\n",
    "list = [[10,20,30] , [40,50,60] , [70,80,90]]\n",
    "arr = ab.array(list)\n",
    "print(arr)"
   ],
   "id": "cb9ee65de051c4ca",
   "outputs": [
    {
     "name": "stdout",
     "output_type": "stream",
     "text": [
      "[[10 20 30]\n",
      " [40 50 60]\n",
      " [70 80 90]]\n"
     ]
    }
   ],
   "execution_count": 5
  },
  {
   "metadata": {
    "ExecuteTime": {
     "end_time": "2025-06-29T18:46:21.427695Z",
     "start_time": "2025-06-29T18:46:21.410895Z"
    }
   },
   "cell_type": "code",
   "source": [
    "import numpy as np\n",
    "arr = np.arange(1,8)\n",
    "print(arr)"
   ],
   "id": "fb969b3aff511a4",
   "outputs": [
    {
     "name": "stdout",
     "output_type": "stream",
     "text": [
      "[1 2 3 4 5 6 7]\n"
     ]
    }
   ],
   "execution_count": 7
  },
  {
   "metadata": {
    "ExecuteTime": {
     "end_time": "2025-06-29T18:46:52.229954Z",
     "start_time": "2025-06-29T18:46:52.210901Z"
    }
   },
   "cell_type": "code",
   "source": [
    "import numpy as np\n",
    "arr = np.arange(11,17).reshape(2,3)\n",
    "print(arr)"
   ],
   "id": "85f271d587e218a9",
   "outputs": [
    {
     "name": "stdout",
     "output_type": "stream",
     "text": [
      "[[11 12 13]\n",
      " [14 15 16]]\n"
     ]
    }
   ],
   "execution_count": 8
  },
  {
   "metadata": {
    "ExecuteTime": {
     "end_time": "2025-06-30T01:31:28.933028Z",
     "start_time": "2025-06-30T01:31:28.847254Z"
    }
   },
   "cell_type": "code",
   "outputs": [
    {
     "name": "stdout",
     "output_type": "stream",
     "text": [
      "[0. 0. 0. 0.]\n"
     ]
    }
   ],
   "execution_count": 7,
   "source": [
    "import numpy as np\n",
    "arr = np.zeros(4)\n",
    "print(arr)"
   ],
   "id": "35d45dc662aaed90"
  },
  {
   "metadata": {
    "ExecuteTime": {
     "end_time": "2025-06-29T18:47:33.540018Z",
     "start_time": "2025-06-29T18:47:33.518225Z"
    }
   },
   "cell_type": "code",
   "outputs": [
    {
     "name": "stdout",
     "output_type": "stream",
     "text": [
      "[ 3  7 11]\n"
     ]
    }
   ],
   "execution_count": 10,
   "source": [
    "import numpy as np\n",
    "a = np.array([2,4,6])\n",
    "b = np.array([1,3,5])\n",
    "print(a+b)"
   ],
   "id": "91dfdeaf4db61882"
  },
  {
   "metadata": {
    "ExecuteTime": {
     "end_time": "2025-06-29T18:48:05.051605Z",
     "start_time": "2025-06-29T18:48:05.022737Z"
    }
   },
   "cell_type": "code",
   "source": [
    "import numpy as np\n",
    "arr = np.array([[1,2,3],[4,5,6]])\n",
    "arr.ndim"
   ],
   "id": "d4735e53c78d9e08",
   "outputs": [
    {
     "data": {
      "text/plain": [
       "2"
      ]
     },
     "execution_count": 11,
     "metadata": {},
     "output_type": "execute_result"
    }
   ],
   "execution_count": 11
  },
  {
   "metadata": {
    "ExecuteTime": {
     "end_time": "2025-06-29T18:48:21.080090Z",
     "start_time": "2025-06-29T18:48:21.021964Z"
    }
   },
   "cell_type": "code",
   "source": [
    "import numpy as np\n",
    "list = [2,4,6,8,9]\n",
    "arr = np.array(list)\n",
    "arr.shape"
   ],
   "id": "10180c016404e704",
   "outputs": [
    {
     "data": {
      "text/plain": [
       "(5,)"
      ]
     },
     "execution_count": 12,
     "metadata": {},
     "output_type": "execute_result"
    }
   ],
   "execution_count": 12
  },
  {
   "metadata": {
    "ExecuteTime": {
     "end_time": "2025-06-29T18:48:41.679793Z",
     "start_time": "2025-06-29T18:48:41.630619Z"
    }
   },
   "cell_type": "code",
   "source": [
    "import numpy as np\n",
    "arr = np.array([1,2,3,4,5])\n",
    "print(arr[1])\n",
    "print(arr[-2])"
   ],
   "id": "6a649249d7cbc9d8",
   "outputs": [
    {
     "name": "stdout",
     "output_type": "stream",
     "text": [
      "2\n",
      "4\n"
     ]
    }
   ],
   "execution_count": 13
  },
  {
   "metadata": {
    "ExecuteTime": {
     "end_time": "2025-06-29T18:49:05.013417Z",
     "start_time": "2025-06-29T18:49:04.976266Z"
    }
   },
   "cell_type": "code",
   "source": [
    "import numpy as np\n",
    "arr = np.array([[2,4,6,8],[1,3,5,7]])\n",
    "print(arr[1,2])\n",
    "print(arr[0,:])\n",
    "print(arr[1,:])"
   ],
   "id": "81174434e4d57f84",
   "outputs": [
    {
     "name": "stdout",
     "output_type": "stream",
     "text": [
      "5\n",
      "[2 4 6 8]\n",
      "[1 3 5 7]\n"
     ]
    }
   ],
   "execution_count": 14
  },
  {
   "metadata": {
    "ExecuteTime": {
     "end_time": "2025-06-30T01:23:37.209534Z",
     "start_time": "2025-06-30T01:23:35.575931Z"
    }
   },
   "cell_type": "code",
   "source": [
    "import numpy as np\n",
    "arr = np.array([1,2,3,4,5,6,7])\n",
    "print(arr[1:5])\n",
    "print(arr[0:5:2])\n",
    "print(arr[-1:-7:-1])\n",
    "print(arr[::2])\n",
    "print(arr[::-2])"
   ],
   "id": "a66b7e49f0041392",
   "outputs": [
    {
     "name": "stdout",
     "output_type": "stream",
     "text": [
      "[2 3 4 5]\n",
      "[1 3 5]\n",
      "[7 6 5 4 3 2]\n",
      "[1 3 5 7]\n",
      "[7 5 3 1]\n"
     ]
    }
   ],
   "execution_count": 2
  },
  {
   "metadata": {
    "ExecuteTime": {
     "end_time": "2025-06-30T01:24:48.020851Z",
     "start_time": "2025-06-30T01:24:47.988933Z"
    }
   },
   "cell_type": "code",
   "source": [
    "import numpy as np\n",
    "arr = np.array([[10,20,30,40],[50,60,70,80],[90,100,110,120]])\n",
    "print(arr[2:])\n",
    "print(arr[1:3 , 1:3])"
   ],
   "id": "e41bfc78481a3faf",
   "outputs": [
    {
     "name": "stdout",
     "output_type": "stream",
     "text": [
      "[[ 90 100 110 120]]\n",
      "[[ 60  70]\n",
      " [100 110]]\n"
     ]
    }
   ],
   "execution_count": 3
  },
  {
   "metadata": {
    "ExecuteTime": {
     "end_time": "2025-06-30T01:25:26.108833Z",
     "start_time": "2025-06-30T01:25:26.080324Z"
    }
   },
   "cell_type": "code",
   "source": [
    "import numpy as np\n",
    "a = np.array([[1 , 2],[3,4]])\n",
    "b= np.array([[5,6],[7,8]])\n",
    "print(a+b)\n",
    "print(b-a)\n",
    "print(a*b)\n",
    "print(a/b)\n",
    "print(a @ b)  #matrix calculation\n",
    "print(a // b) # Floor division\n",
    "print(a** b)  #Exponentiation\n",
    "print(a % b ) #modulo (remainder)\n",
    "print(a.transpose())"
   ],
   "id": "cb49213a3836ffc7",
   "outputs": [
    {
     "name": "stdout",
     "output_type": "stream",
     "text": [
      "[[ 6  8]\n",
      " [10 12]]\n",
      "[[4 4]\n",
      " [4 4]]\n",
      "[[ 5 12]\n",
      " [21 32]]\n",
      "[[0.2        0.33333333]\n",
      " [0.42857143 0.5       ]]\n",
      "[[19 22]\n",
      " [43 50]]\n",
      "[[0 0]\n",
      " [0 0]]\n",
      "[[    1    64]\n",
      " [ 2187 65536]]\n",
      "[[1 2]\n",
      " [3 4]]\n",
      "[[1 3]\n",
      " [2 4]]\n"
     ]
    }
   ],
   "execution_count": 5
  },
  {
   "metadata": {
    "ExecuteTime": {
     "end_time": "2025-06-30T01:25:52.171405Z",
     "start_time": "2025-06-30T01:25:52.056891Z"
    }
   },
   "cell_type": "code",
   "source": [
    "import numpy as np\n",
    "arr = np.array([1,2,3,4])\n",
    "arr>3"
   ],
   "id": "79e00e74a8f847c0",
   "outputs": [
    {
     "data": {
      "text/plain": [
       "array([False, False, False,  True])"
      ]
     },
     "execution_count": 6,
     "metadata": {},
     "output_type": "execute_result"
    }
   ],
   "execution_count": 6
  },
  {
   "metadata": {
    "ExecuteTime": {
     "end_time": "2025-06-30T02:19:49.535314Z",
     "start_time": "2025-06-30T02:19:49.398018Z"
    }
   },
   "cell_type": "code",
   "source": [
    "import numpy as np\n",
    "arr = np.eye(3)\n",
    "print(arr)\n"
   ],
   "id": "603ac25406e9e51a",
   "outputs": [
    {
     "name": "stdout",
     "output_type": "stream",
     "text": [
      "[[1. 0. 0.]\n",
      " [0. 1. 0.]\n",
      " [0. 0. 1.]]\n"
     ]
    }
   ],
   "execution_count": 9
  },
  {
   "metadata": {
    "ExecuteTime": {
     "end_time": "2025-06-30T02:23:51.792346Z",
     "start_time": "2025-06-30T02:23:51.776085Z"
    }
   },
   "cell_type": "code",
   "source": [
    "import numpy as np\n",
    "arr = np.linspace(2, 8, num=4)\n",
    "print(arr)"
   ],
   "id": "15cc6ca1a8bbe4eb",
   "outputs": [
    {
     "name": "stdout",
     "output_type": "stream",
     "text": [
      "[2. 4. 6. 8.]\n"
     ]
    }
   ],
   "execution_count": 12
  },
  {
   "metadata": {
    "ExecuteTime": {
     "end_time": "2025-06-30T02:32:16.136732Z",
     "start_time": "2025-06-30T02:32:16.092050Z"
    }
   },
   "cell_type": "code",
   "source": [
    "import numpy as np\n",
    "arr = np.array([[10, 20, 30, 40],\n",
    "                [50, 60, 70, 80],\n",
    "                [90, 100, 110, 120]])\n",
    "\n",
    "print(\"Original Array:\")\n",
    "print(arr)\n",
    "\n",
    "print(\"\\nSum of each column (axis=0):\")\n",
    "print(np.sum(arr, axis=0))\n",
    "\n",
    "print(\"\\nSum of each row (axis=1):\")\n",
    "print(np.sum(arr, axis=1))\n"
   ],
   "id": "cfea58c0babe83cf",
   "outputs": [
    {
     "name": "stdout",
     "output_type": "stream",
     "text": [
      "Original Array:\n",
      "[[ 10  20  30  40]\n",
      " [ 50  60  70  80]\n",
      " [ 90 100 110 120]]\n",
      "\n",
      "Sum of each column (axis=0):\n",
      "[150 180 210 240]\n",
      "\n",
      "Sum of each row (axis=1):\n",
      "[100 260 420]\n"
     ]
    }
   ],
   "execution_count": 16
  },
  {
   "metadata": {
    "ExecuteTime": {
     "end_time": "2025-06-30T02:35:35.600291Z",
     "start_time": "2025-06-30T02:35:35.559439Z"
    }
   },
   "cell_type": "code",
   "source": [
    "import numpy as np\n",
    "arr = np.array([[10, 20, 30, 40],\n",
    "                [50, 60, 70, 80],\n",
    "                [90, 100, 110, 120]])\n",
    "print(\"\\nMax of each column (axis=0):\")\n",
    "print(np.max(arr, axis=0))\n",
    "\n",
    "print(\"\\nMax of each row (axis=1):\")\n",
    "print(np.max(arr, axis=1))"
   ],
   "id": "c2402ea95a84fc1",
   "outputs": [
    {
     "name": "stdout",
     "output_type": "stream",
     "text": [
      "\n",
      "Max of each column (axis=0):\n",
      "[ 90 100 110 120]\n",
      "\n",
      "Max of each row (axis=1):\n",
      "[ 40  80 120]\n"
     ]
    }
   ],
   "execution_count": 19
  },
  {
   "metadata": {
    "ExecuteTime": {
     "end_time": "2025-06-30T02:37:41.607572Z",
     "start_time": "2025-06-30T02:37:41.567706Z"
    }
   },
   "cell_type": "code",
   "source": [
    "import numpy as np\n",
    "arr = np.array([[10, 20, 30, 40],\n",
    "                [50, 60, 70, 80],\n",
    "                [90, 100, 110, 120]])\n",
    "print(\"\\nMean of each column (axis=0):\")\n",
    "print(np.mean(arr,axis=0))\n",
    "\n",
    "print(\"\\nMean of each row (axis=1):\")\n",
    "print(np.mean(arr,axis=1))"
   ],
   "id": "9426b619552f02a2",
   "outputs": [
    {
     "name": "stdout",
     "output_type": "stream",
     "text": [
      "\n",
      "Mean of each column (axis=0):\n",
      "[50. 60. 70. 80.]\n",
      "\n",
      "Mean of each row (axis=1):\n",
      "[ 25.  65. 105.]\n"
     ]
    }
   ],
   "execution_count": 21
  }
 ],
 "metadata": {
  "kernelspec": {
   "display_name": "Python 3",
   "language": "python",
   "name": "python3"
  },
  "language_info": {
   "codemirror_mode": {
    "name": "ipython",
    "version": 2
   },
   "file_extension": ".py",
   "mimetype": "text/x-python",
   "name": "python",
   "nbconvert_exporter": "python",
   "pygments_lexer": "ipython2",
   "version": "2.7.6"
  }
 },
 "nbformat": 4,
 "nbformat_minor": 5
}
